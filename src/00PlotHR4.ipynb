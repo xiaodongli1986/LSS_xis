{
 "metadata": {
  "name": "",
  "signature": "sha256:14ec9bc52cb5e5febd7869ff998f1ede877e89b8ffbac41afe0dd715ec763e4d"
 },
 "nbformat": 3,
 "nbformat_minor": 0,
 "worksheets": [
  {
   "cells": [
    {
     "cell_type": "heading",
     "level": 2,
     "metadata": {},
     "source": [
      "Sec 1. Useful Definitions  "
     ]
    },
    {
     "cell_type": "code",
     "collapsed": false,
     "input": [
      "from stdA import *\n",
      "%pylab inline"
     ],
     "language": "python",
     "metadata": {},
     "outputs": [
      {
       "output_type": "stream",
       "stream": "stdout",
       "text": [
        "Populating the interactive namespace from numpy and matplotlib\n"
       ]
      },
      {
       "output_type": "stream",
       "stream": "stderr",
       "text": [
        "WARNING: pylab import has clobbered these variables: ['product', 'random', 'transpose', 'copy']\n",
        "`%matplotlib` prevents importing * from pylab and numpy\n"
       ]
      }
     ],
     "prompt_number": 1
    },
    {
     "cell_type": "code",
     "collapsed": false,
     "input": [
      "for zstr in ['0']:#, '0.5', '1', '1.5', '2']:\n",
      "    nowfile = '../J08.dat.z_'+zstr+'.mge3.000e11.slice1.1'\n",
      "    data = np.loadtxt(nowfile)\n",
      "    "
     ],
     "language": "python",
     "metadata": {},
     "outputs": [],
     "prompt_number": 3
    }
   ],
   "metadata": {}
  }
 ]
}