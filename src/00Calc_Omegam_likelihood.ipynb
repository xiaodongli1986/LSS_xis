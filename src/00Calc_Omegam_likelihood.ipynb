{
 "metadata": {
  "name": "",
  "signature": "sha256:a2e75a3b6e6429e3f247c0b269c076c7203a61fa26c37c4f1442c86b039cb75e"
 },
 "nbformat": 3,
 "nbformat_minor": 0,
 "worksheets": [
  {
   "cells": [
    {
     "cell_type": "code",
     "collapsed": false,
     "input": [
      "\n",
      "\n",
      "%pylab inline\n",
      "from stdA import *\n",
      "from stdA_stat import *\n",
      "import copy as copy\n",
      "import numpy as np\n",
      "\n",
      "i1, i2 = 6, 40\n",
      "sfact = 1\n",
      "logY=False\n",
      "\n",
      "###\n",
      "delta_imock = 4 ### Adopt DIFFERENT imock when comparing different-redshfit mocks\n",
      "\n",
      "nowdir = '../105thick/'\n",
      "\n",
      "def get_avg_array(arraylists, furtherdivfac = 1.0):\n",
      "    import copy\n",
      "    avgarray = copy.deepcopy(arraylists[0])\n",
      "    divfac   = float(len(arraylists)) * furtherdivfac\n",
      "    nrow = len(arraylists[0])\n",
      "    for i in range(nrow):\n",
      "        for iarray in range(1,len(arraylists)):\n",
      "            avgarray[i] += arraylists[iarray][i]\n",
      "        avgarray[i] /= divfac\n",
      "    return avgarray"
     ],
     "language": "python",
     "metadata": {},
     "outputs": [
      {
       "output_type": "stream",
       "stream": "stdout",
       "text": [
        "Populating the interactive namespace from numpy and matplotlib\n"
       ]
      }
     ],
     "prompt_number": 1
    },
    {
     "cell_type": "code",
     "collapsed": false,
     "input": [
      "\n",
      "ommin,ommax,numom, wmin,wmax,numw = 0.16,0.36,101,-1.3,-0.7,151\n",
      "omlist = np.linspace(ommin,ommax,numom)\n",
      "wlist  = np.linspace(wmin,wmax,numw)\n",
      "omwlist = sumlist([[[om, w] for om in omlist] for w in wlist])\n",
      "numomw = len(omwlist)\n",
      "om_dft, w_dft = [0.26,-1]\n",
      "Scanname = 'DraftContout_'+str(numom)+'_'+str(numw)+'_Scan__OM%.2f'%ommin+'to%.2f'%ommax+'__W%.2f'%wmin+'to%.2f'%wmax\n",
      "print Scanname\n",
      "print omlist, wlist"
     ],
     "language": "python",
     "metadata": {},
     "outputs": [
      {
       "output_type": "stream",
       "stream": "stdout",
       "text": [
        "DraftContout_101_151_Scan__OM0.16to0.36__W-1.30to-0.70\n",
        "[ 0.16   0.162  0.164  0.166  0.168  0.17   0.172  0.174  0.176  0.178\n",
        "  0.18   0.182  0.184  0.186  0.188  0.19   0.192  0.194  0.196  0.198  0.2\n",
        "  0.202  0.204  0.206  0.208  0.21   0.212  0.214  0.216  0.218  0.22\n",
        "  0.222  0.224  0.226  0.228  0.23   0.232  0.234  0.236  0.238  0.24\n",
        "  0.242  0.244  0.246  0.248  0.25   0.252  0.254  0.256  0.258  0.26\n",
        "  0.262  0.264  0.266  0.268  0.27   0.272  0.274  0.276  0.278  0.28\n",
        "  0.282  0.284  0.286  0.288  0.29   0.292  0.294  0.296  0.298  0.3    0.302\n",
        "  0.304  0.306  0.308  0.31   0.312  0.314  0.316  0.318  0.32   0.322\n",
        "  0.324  0.326  0.328  0.33   0.332  0.334  0.336  0.338  0.34   0.342\n",
        "  0.344  0.346  0.348  0.35   0.352  0.354  0.356  0.358  0.36 ] [-1.3   -1.296 -1.292 -1.288 -1.284 -1.28  -1.276 -1.272 -1.268 -1.264\n",
        " -1.26  -1.256 -1.252 -1.248 -1.244 -1.24  -1.236 -1.232 -1.228 -1.224\n",
        " -1.22  -1.216 -1.212 -1.208 -1.204 -1.2   -1.196 -1.192 -1.188 -1.184\n",
        " -1.18  -1.176 -1.172 -1.168 -1.164 -1.16  -1.156 -1.152 -1.148 -1.144\n",
        " -1.14  -1.136 -1.132 -1.128 -1.124 -1.12  -1.116 -1.112 -1.108 -1.104 -1.1\n",
        " -1.096 -1.092 -1.088 -1.084 -1.08  -1.076 -1.072 -1.068 -1.064 -1.06\n",
        " -1.056 -1.052 -1.048 -1.044 -1.04  -1.036 -1.032 -1.028 -1.024 -1.02\n",
        " -1.016 -1.012 -1.008 -1.004 -1.    -0.996 -0.992 -0.988 -0.984 -0.98\n",
        " -0.976 -0.972 -0.968 -0.964 -0.96  -0.956 -0.952 -0.948 -0.944 -0.94\n",
        " -0.936 -0.932 -0.928 -0.924 -0.92  -0.916 -0.912 -0.908 -0.904 -0.9   -0.896\n",
        " -0.892 -0.888 -0.884 -0.88  -0.876 -0.872 -0.868 -0.864 -0.86  -0.856\n",
        " -0.852 -0.848 -0.844 -0.84  -0.836 -0.832 -0.828 -0.824 -0.82  -0.816\n",
        " -0.812 -0.808 -0.804 -0.8   -0.796 -0.792 -0.788 -0.784 -0.78  -0.776\n",
        " -0.772 -0.768 -0.764 -0.76  -0.756 -0.752 -0.748 -0.744 -0.74  -0.736\n",
        " -0.732 -0.728 -0.724 -0.72  -0.716 -0.712 -0.708 -0.704 -0.7  ]\n"
       ]
      }
     ],
     "prompt_number": 3
    },
    {
     "cell_type": "code",
     "collapsed": false,
     "input": [
      "#for delta_imock in [0,1,2,3,4]:\n",
      "\n",
      "## 0. om, w list\n",
      "\n",
      "\n",
      "## 1. redshift snapshots\n",
      "zstrs = ['0', '0.5', '1', '1.5', '2']\n",
      "\n",
      "## 2. Settings for plots\n",
      "make_plot = False\n",
      "savefig=False\n",
      "\n",
      "## 3. Error bar settings\n",
      "use_whole_snapshot_erbar = True\n",
      "\n",
      "## 4. Normalization\n",
      "def norm_SkipLast(X):\n",
      "    return normto1(X)[0:len(X)-1]\n",
      "normfun = norm_SkipLast\n",
      "\n",
      "## Storage file\n",
      "scanstr  = Scanname+'_sfact'+str(sfact)+'_s'+str(i1-1)+'to'+str(i2)\n",
      "if use_whole_snapshot_erbar:\n",
      "    scanstr+= '_WholeSnapShot'\n",
      "else:\n",
      "    scanstr+= '_SingleSubSlice'\n",
      "scanchisqfile = '../chisqs/'+scanstr+'.'+str(len(omwlist))+'chisqs'\n",
      "print 'Output to file: ', scanchisqfile\n",
      "scanf = open(scanchisqfile, 'w')\n",
      "scanf.write('## Chisqs, default cosmology  = 0.26,-1.  fmt: omw,  chisqY1_uncor, chisqY1_corred, chisqY2_uncor, chisqY2_corred, chisqY3_uncor, chisqY3_corred. '+\\\n",
      "            '(Total values, and single values from comparing z='+array_to_str(zstrs[1:len(zstrs)],',')+' to z='+zstrs[0]+\\\n",
      "            '), vaules of rescaling, minimal-rescaling-outflow check (0 if outflow).\\n')\n",
      "minimal_rescale_outflow_thredshold = i2 / (50+0.0)\n",
      "print 'Rescale shall  >', minimal_rescale_outflow_thredshold, ' to avoid outflow.'\n",
      "\n",
      "if True:\n",
      "    ### 1. Storage Structures \n",
      "    ## 1.1 Covariance for delta Y1/2/3\n",
      "    covmats_Delta_Y1 = []\n",
      "    covmats_Delta_Y2 = []\n",
      "    covmats_Delta_Y3 = []\n",
      "    ## 1.2 Error bar (diagnol of sqrt of covmat)\n",
      "    Delta_Yer1s = []\n",
      "    Delta_Yer2s = []\n",
      "    Delta_Yer3s = []\n",
      "    ## 1.3 Systematic correction\n",
      "    Delta_Y1_syss = []\n",
      "    Delta_Y2_syss = []\n",
      "    Delta_Y3_syss = []\n",
      "    iomw = 0\n",
      "    ### 2. Loop of rescales\n",
      "    chisq_dict = {}\n",
      "    \n",
      "    for omw in [[om_dft, w_dft]]+omwlist:\n",
      "        om,w = omw\n",
      "        if mod(iomw,50) == 0:\n",
      "            print ' iomw, numomw = ', iomw, len(omwlist)\n",
      "        rescales = [DA(om,w,0.6,float(zz)+0.00001)/DA(om_dft,w_dft,0.6,float(zz)+0.00001) for zz in zstrs]\n",
      "        chisq_dict[omwstr(om,w)] = []\n",
      "        iz = 0\n",
      "        if make_plot:\n",
      "            figa = plt.figure(figsize=(16,7))\n",
      "            ax1a, ax2a, ax3a = figa.add_subplot(131), figa.add_subplot(132), figa.add_subplot(133)\n",
      "\n",
      "            figb = plt.figure(figsize=(16,7))\n",
      "            ax1b, ax2b, ax3b = figb.add_subplot(131), figb.add_subplot(132), figb.add_subplot(133)\n",
      "        ## 2.1 Loop of redshifts\n",
      "        for nowzstr in zstrs:\n",
      "            # 2.1.1 Preparations: Name of files; value of rescale; read-in; \n",
      "            nowfiles = sumlist([[nowdir+'J08.dat.z_'+nowzstr+'.mge3.000e11.slice'+str(islice)+'.'+str(isubslice)+'.rmax50.50rbins.2pcf' \\\n",
      "                        for isubslice in range(1,5)] for islice in range(1,31)])\n",
      "            rescale = rescales[iz]\n",
      "            nowdatas = [np.loadtxt(nowfile, skiprows=1) for nowfile in nowfiles]\n",
      "            num_mock = len(nowdatas)\n",
      "            XiLSs = [[nowdatas[ii1][ii2][7] for ii2 in range(len(nowdatas[ii1]))] for ii1 in range(len(nowdatas))]\n",
      "\n",
      "            # 2.1.2 Averaged result\n",
      "            nowdata = get_avg_array2D(nowdatas)\n",
      "            R1, R2, DD, DR, RR, XiN, XiD, XiLS = Xsfromdata(nowdata, range(8))\n",
      "            Rmid_orig = [((R1[row]**3.0+R2[row]**3.0)*0.5)**(1.0/3.0) for row in range(len(R1))]\n",
      "            Rmid = [rr*rescale for rr in Rmid_orig]\n",
      "\n",
      "            # 2.1.3 Main body of computation\n",
      "            Y1 = XmultY(Rmid, XiLS,a=sfact);\n",
      "            Y2 = normfun(Y1)\n",
      "            X3 = Rmid_orig[i1-1:i2]; ### Values of r at which we care about\n",
      "            Y3 = normfun(LinearInterpolation_IOA(Rmid, Y1, X3))\n",
      "            \n",
      "            Y1s = [XmultY(Rmid, XX,a=sfact) for XX in XiLSs]\n",
      "            Y2s = [normfun(XX) for XX in Y1s]\n",
      "            Y3s = [normfun(LinearInterpolation_IOA(Rmid, XX, X3)) for XX in Y1s]\n",
      "            nowcovmat_Y1 = get_covmat(transpose(Y1s))\n",
      "            nowcovmat_Y2 = get_covmat(transpose(Y2s))\n",
      "            nowcovmat_Y3 = get_covmat(transpose(Y3s))\n",
      "            Yer1 = [(nowcovmat_Y1[ii][ii])**0.5  for ii in range(len(nowcovmat_Y1))]\n",
      "            Yer2 = [(nowcovmat_Y2[ii][ii])**0.5  for ii in range(len(nowcovmat_Y2))]\n",
      "            Yer3 = [(nowcovmat_Y3[ii][ii])**0.5  for ii in range(len(nowcovmat_Y3))]\n",
      "            if use_whole_snapshot_erbar: \n",
      "                ernormfact = 1.0/(num_mock+0.0-1)**0.5\n",
      "                Yer1 = [xx*ernormfact  for xx in Yer1]\n",
      "                Yer2 = [xx*ernormfact  for xx in Yer2]\n",
      "                Yer3 = [xx*ernormfact  for xx in Yer3]\n",
      "                \n",
      "            if iz == 0:\n",
      "                Y1ref = [xx for xx in Y1]; \n",
      "                Y2ref = [xx for xx in Y2]; \n",
      "                Y3ref = [xx for xx in Y3];\n",
      "                Y1refs = [[xxx for xxx in xx] for xx in Y1s]\n",
      "                Y2refs = [[xxx for xxx in xx] for xx in Y2s]\n",
      "                Y3refs = [[xxx for xxx in xx] for xx in Y3s]\n",
      "                \n",
      "                if iomw == 0: # Add to storage\n",
      "                    covmats_Delta_Y1.append(0);covmats_Delta_Y2.append(0);covmats_Delta_Y3.append(0)\n",
      "                    Delta_Yer1s.append(0);Delta_Yer2s.append(0);Delta_Yer3s.append(0)\n",
      "                    Delta_Y1_syss.append(0);Delta_Y2_syss.append(0);Delta_Y3_syss.append(0);\n",
      "            else:\n",
      "                Delta_Y1 = get_diffarray(Y1ref,Y1);\n",
      "                Delta_Y2 = get_diffarray(Y2ref,Y2);\n",
      "                Delta_Y3 = get_diffarray(Y3ref,Y3);\n",
      "                if iomw == 0:\n",
      "                    \n",
      "                    Delta_Y1_sys = [xx for xx in Delta_Y1];\n",
      "                    Delta_Y2_sys = [xx for xx in Delta_Y2];\n",
      "                    Delta_Y3_sys = [xx for xx in Delta_Y3];\n",
      "                    Delta_Y1_syss.append([xx for xx in Delta_Y1_sys]);\n",
      "                    Delta_Y2_syss.append([xx for xx in Delta_Y2_sys]);\n",
      "                    Delta_Y3_syss.append([xx for xx in Delta_Y3_sys]);\n",
      "                    \n",
      "                    Delta_Y1s = [get_diffarray(Y1refs[row-delta_imock],Y1s[row]) for row in range(len(Y1s))]\n",
      "                    Delta_Y2s = [get_diffarray(Y2refs[row-delta_imock],Y2s[row]) for row in range(len(Y2s))]\n",
      "                    Delta_Y3s = [get_diffarray(Y3refs[row-delta_imock],Y3s[row]) for row in range(len(Y3s))]\n",
      "                    nowcovmat_Delta_Y1 = get_covmat(transpose(Delta_Y1s))\n",
      "                    nowcovmat_Delta_Y2 = get_covmat(transpose(Delta_Y2s))\n",
      "                    nowcovmat_Delta_Y3 = get_covmat(transpose(Delta_Y3s))\n",
      "                    covmats_Delta_Y1.append([[xxx for xxx in xx] for xx in nowcovmat_Delta_Y1])\n",
      "                    covmats_Delta_Y2.append([[xxx for xxx in xx] for xx in nowcovmat_Delta_Y2])\n",
      "                    covmats_Delta_Y3.append([[xxx for xxx in xx] for xx in nowcovmat_Delta_Y3])\n",
      "                    \n",
      "                    Delta_Yer1 = [(nowcovmat_Delta_Y1[ii][ii])**0.5  for ii in range(len(nowcovmat_Delta_Y1))]\n",
      "                    Delta_Yer2 = [(nowcovmat_Delta_Y2[ii][ii])**0.5  for ii in range(len(nowcovmat_Delta_Y2))]\n",
      "                    Delta_Yer3 = [(nowcovmat_Delta_Y3[ii][ii])**0.5  for ii in range(len(nowcovmat_Delta_Y3))]\n",
      "                    if use_whole_snapshot_erbar: \n",
      "                        ernormfact = 1.0/(num_mock+0.0-1)**0.5\n",
      "                        Delta_Yer1 = [xx*ernormfact  for xx in Delta_Yer1]\n",
      "                        Delta_Yer2 = [xx*ernormfact  for xx in Delta_Yer2]\n",
      "                        Delta_Yer3 = [xx*ernormfact  for xx in Delta_Yer3]\n",
      "                    Delta_Yer1s.append([xx for xx in Delta_Yer1])\n",
      "                    Delta_Yer2s.append([xx for xx in Delta_Yer2])\n",
      "                    Delta_Yer3s.append([xx for xx in Delta_Yer3])\n",
      "                    \n",
      "                chisq_Y1_uncor = chisq_like_cov_xbar(Delta_Y1, covmats_Delta_Y1[iz])[0]\n",
      "                chisq_Y2_uncor = chisq_like_cov_xbar(Delta_Y2, covmats_Delta_Y2[iz])[0]\n",
      "                chisq_Y3_uncor = chisq_like_cov_xbar(Delta_Y3, covmats_Delta_Y3[iz])[0]\n",
      "                chisq_Y1_corred = chisq_like_cov_xbar(get_diffarray(Delta_Y1, Delta_Y1_syss[iz]), covmats_Delta_Y1[iz])[0]\n",
      "                chisq_Y2_corred = chisq_like_cov_xbar(get_diffarray(Delta_Y2, Delta_Y2_syss[iz]), covmats_Delta_Y2[iz])[0]\n",
      "                chisq_Y3_corred = chisq_like_cov_xbar(get_diffarray(Delta_Y3, Delta_Y3_syss[iz]), covmats_Delta_Y3[iz])[0]\n",
      "                if use_whole_snapshot_erbar: \n",
      "                    ernormfact = 1.0/(num_mock+0.0-1)**0.5\n",
      "                    chisq_Y1_uncor /= (ernormfact**2.0); chisq_Y2_uncor /= (ernormfact**2.0); chisq_Y3_uncor /= (ernormfact**2.0);\n",
      "                    chisq_Y1_corred /= (ernormfact**2.0); chisq_Y2_corred /= (ernormfact**2.0); chisq_Y3_corred /= (ernormfact**2.0);\n",
      "                chisq_dict[omwstr(om,w)].append([chisq_Y1_uncor,chisq_Y1_corred,\n",
      "                                                     chisq_Y2_uncor,chisq_Y2_corred,\n",
      "                                                     chisq_Y3_uncor,chisq_Y3_corred,])\n",
      "            if make_plot:\n",
      "                ax1a.errorbar(Rmid, Y1, Yer1, label = 'z='+nowzstr, lw=2)\n",
      "                ax1a.set_ylabel('$\\\\xi \\\\times s^{'+str(sfact)+'}$', fontsize=26)\n",
      "                ax2a.errorbar(Rmid[0:len(Y2)], Y2, Yer2, label = 'z='+nowzstr, lw=2)\n",
      "                ax2a.set_ylabel('$\\\\xi \\\\times s^{'+str(sfact)+'}$ (normalized)', fontsize=22)\n",
      "                ax3a.errorbar(X3[0:len(Y3)], Y3, Yer3, label = 'z='+nowzstr, lw=2)\n",
      "                ax3a.set_ylabel('$\\\\xi \\\\times s^{'+str(sfact)+'}$ (normalized in range of ('+str(i1-1)+','+str(i2)+')', fontsize=22)\n",
      "                if iz != 0:\n",
      "                    ax1b.errorbar(Rmid, Delta_Y1, Delta_Yer1, label = 'z='+nowzstr+',rescale=%.2f'%rescale+\\\n",
      "                                  '\\n$\\\\chi^2=%.2f'%chisq_Y1_uncor+';\\\\ %.2f'%chisq_Y1_corred+'$', lw=2)\n",
      "                    ax1b.set_ylabel('$\\delta \\\\xi \\\\times s^{'+str(sfact)+'}$', fontsize=26)\n",
      "                    ax2b.errorbar(Rmid[0:len(Y2)], Delta_Y2, Delta_Yer2, label = 'z='+nowzstr+',rescale=%.2f'%rescale+\\\n",
      "                                  '\\n$\\\\chi^2=%.2f'%chisq_Y2_uncor+';\\\\ %.2f'%chisq_Y2_corred+'$', lw=2)\n",
      "                    ax2b.set_ylabel('$\\\\delta \\\\xi \\\\times s^{'+str(sfact)+'}$ (normalized)', fontsize=22)\n",
      "                    ax3b.errorbar(X3[0:len(Y3)],   Delta_Y3, Delta_Yer3, label = 'z='+nowzstr+',rescale=%.2f'%rescale+\\\n",
      "                                  '\\n$\\\\chi^2=%.2f'%chisq_Y3_uncor+';\\\\ %.2f'%chisq_Y3_corred+'$', lw=2)\n",
      "            iz += 1\n",
      "        if make_plot:\n",
      "            for ax in [ax1a,ax2a,ax3a, ax1b,ax2b,ax3b]:\n",
      "                ax.grid()\n",
      "                ax.set_xlabel('$r$', fontsize=20)\n",
      "                ax.legend(loc='best',frameon=False)\n",
      "            if logY:\n",
      "                for ax in [ax1a,ax2a,ax3a]:\n",
      "                    ax.set_yscale(\"log\")\n",
      "            figa.tight_layout()\n",
      "            figb.tight_layout()\n",
      "            ax1a.text(0.1,0.1,omwstr(om,w), transform=ax1a.transAxes,fontsize=18)\n",
      "            ax2a.text(0.1,0.1,omwstr(om,w), transform=ax1a.transAxes,fontsize=18)\n",
      "            if savefig:\n",
      "                figa.savefig(scanstr+'_'+omwstr(om,w)+'.eps', format='eps')\n",
      "                figb.savefig(scanstr+'_'+omwstr(om,w)+'_delta.eps', format='eps')\n",
      "        #plt.show()\n",
      "        pass\n",
      "        chisqY1_uncor  = sum([XX[0] for XX in chisq_dict[omwstr(om,w)]])\n",
      "        chisqY1_corred = sum([XX[1] for XX in chisq_dict[omwstr(om,w)]])\n",
      "        chisqY2_uncor  = sum([XX[2] for XX in chisq_dict[omwstr(om,w)]])\n",
      "        chisqY2_corred = sum([XX[3] for XX in chisq_dict[omwstr(om,w)]])\n",
      "        chisqY3_uncor  = sum([XX[4] for XX in chisq_dict[omwstr(om,w)]])\n",
      "        chisqY3_corred = sum([XX[5] for XX in chisq_dict[omwstr(om,w)]])\n",
      "        chisq_dict[omwstr(om,w)].insert(0,[chisqY1_uncor,chisqY1_corred,chisqY2_uncor,chisqY2_corred,chisqY3_uncor,chisqY3_corred,])\n",
      "        now_value_str = array_to_str_fmtted(sumlist(chisq_dict[omwstr(om,w)]),fmt='%14.7e')\n",
      "        now_value_str += '           '\n",
      "        now_value_str += array_to_str_fmtted(rescales, fmt='%8.5f')\n",
      "        if min(rescales)<0.8:\n",
      "            now_value_str += '   0'\n",
      "        else:\n",
      "            now_value_str += '   1'\n",
      "        #print chisq_dict[omwstr(om,w)]\n",
      "        #print now_value_str\n",
      "        scanf.write(omwstr(om,w)+'  '+now_value_str+'\\n')\n",
      "        plt.show()\n",
      "        iomw += 1\n",
      "scanf.close()"
     ],
     "language": "python",
     "metadata": {},
     "outputs": [
      {
       "output_type": "stream",
       "stream": "stdout",
       "text": [
        "Output to file:  ../chisqs/DraftContout_101_151_Scan__OM0.16to0.36__W-1.30to-0.70_sfact1_s5to40_WholeSnapShot.15251chisqs\n",
        "Rescale shall  > 0.8  to avoid outflow.\n",
        " iomw, numomw =  0 15251\n",
        " iomw, numomw = "
       ]
      },
      {
       "output_type": "stream",
       "stream": "stdout",
       "text": [
        " 50 15251\n",
        " iomw, numomw = "
       ]
      },
      {
       "output_type": "stream",
       "stream": "stdout",
       "text": [
        " 100 15251\n",
        " iomw, numomw = "
       ]
      },
      {
       "output_type": "stream",
       "stream": "stdout",
       "text": [
        " 150 15251\n",
        " iomw, numomw = "
       ]
      },
      {
       "output_type": "stream",
       "stream": "stdout",
       "text": [
        " 200 15251\n",
        " iomw, numomw = "
       ]
      },
      {
       "output_type": "stream",
       "stream": "stdout",
       "text": [
        " 250 15251\n",
        " iomw, numomw = "
       ]
      },
      {
       "output_type": "stream",
       "stream": "stdout",
       "text": [
        " 300 15251\n",
        " iomw, numomw = "
       ]
      },
      {
       "output_type": "stream",
       "stream": "stdout",
       "text": [
        " 350 15251\n",
        " iomw, numomw = "
       ]
      },
      {
       "output_type": "stream",
       "stream": "stdout",
       "text": [
        " 400 15251\n",
        " iomw, numomw = "
       ]
      },
      {
       "output_type": "stream",
       "stream": "stdout",
       "text": [
        " 450 15251\n",
        " iomw, numomw = "
       ]
      },
      {
       "output_type": "stream",
       "stream": "stdout",
       "text": [
        " 500 15251\n",
        " iomw, numomw = "
       ]
      },
      {
       "output_type": "stream",
       "stream": "stdout",
       "text": [
        " 550 15251\n",
        " iomw, numomw = "
       ]
      },
      {
       "output_type": "stream",
       "stream": "stdout",
       "text": [
        " 600 15251\n",
        " iomw, numomw = "
       ]
      },
      {
       "output_type": "stream",
       "stream": "stdout",
       "text": [
        " 650 15251\n",
        " iomw, numomw = "
       ]
      },
      {
       "output_type": "stream",
       "stream": "stdout",
       "text": [
        " 700 15251\n",
        " iomw, numomw = "
       ]
      },
      {
       "output_type": "stream",
       "stream": "stdout",
       "text": [
        " 750 15251\n",
        " iomw, numomw = "
       ]
      },
      {
       "output_type": "stream",
       "stream": "stdout",
       "text": [
        " 800 15251\n",
        " iomw, numomw = "
       ]
      },
      {
       "output_type": "stream",
       "stream": "stdout",
       "text": [
        " 850 15251\n",
        " iomw, numomw = "
       ]
      },
      {
       "output_type": "stream",
       "stream": "stdout",
       "text": [
        " 900 15251\n",
        " iomw, numomw = "
       ]
      },
      {
       "output_type": "stream",
       "stream": "stdout",
       "text": [
        " 950 15251\n",
        " iomw, numomw = "
       ]
      },
      {
       "output_type": "stream",
       "stream": "stdout",
       "text": [
        " 1000 15251\n",
        " iomw, numomw = "
       ]
      },
      {
       "output_type": "stream",
       "stream": "stdout",
       "text": [
        " 1050 15251\n",
        " iomw, numomw = "
       ]
      },
      {
       "output_type": "stream",
       "stream": "stdout",
       "text": [
        " 1100 15251\n",
        " iomw, numomw = "
       ]
      },
      {
       "output_type": "stream",
       "stream": "stdout",
       "text": [
        " 1150 15251\n",
        " iomw, numomw = "
       ]
      },
      {
       "output_type": "stream",
       "stream": "stdout",
       "text": [
        " 1200 15251\n",
        " iomw, numomw = "
       ]
      },
      {
       "output_type": "stream",
       "stream": "stdout",
       "text": [
        " 1250 15251\n",
        " iomw, numomw = "
       ]
      },
      {
       "output_type": "stream",
       "stream": "stdout",
       "text": [
        " 1300 15251\n",
        " iomw, numomw = "
       ]
      },
      {
       "output_type": "stream",
       "stream": "stdout",
       "text": [
        " 1350 15251\n",
        " iomw, numomw = "
       ]
      },
      {
       "output_type": "stream",
       "stream": "stdout",
       "text": [
        " 1400 15251\n",
        " iomw, numomw = "
       ]
      },
      {
       "output_type": "stream",
       "stream": "stdout",
       "text": [
        " 1450 15251\n",
        " iomw, numomw = "
       ]
      },
      {
       "output_type": "stream",
       "stream": "stdout",
       "text": [
        " 1500 15251\n",
        " iomw, numomw = "
       ]
      },
      {
       "output_type": "stream",
       "stream": "stdout",
       "text": [
        " 1550 15251\n",
        " iomw, numomw = "
       ]
      },
      {
       "output_type": "stream",
       "stream": "stdout",
       "text": [
        " 1600 15251\n",
        " iomw, numomw = "
       ]
      },
      {
       "output_type": "stream",
       "stream": "stdout",
       "text": [
        " 1650 15251\n",
        " iomw, numomw = "
       ]
      },
      {
       "output_type": "stream",
       "stream": "stdout",
       "text": [
        " 1700 15251\n",
        " iomw, numomw = "
       ]
      },
      {
       "output_type": "stream",
       "stream": "stdout",
       "text": [
        " 1750 15251\n",
        " iomw, numomw = "
       ]
      },
      {
       "output_type": "stream",
       "stream": "stdout",
       "text": [
        " 1800 15251\n",
        " iomw, numomw = "
       ]
      },
      {
       "output_type": "stream",
       "stream": "stdout",
       "text": [
        " 1850 15251\n",
        " iomw, numomw = "
       ]
      },
      {
       "output_type": "stream",
       "stream": "stdout",
       "text": [
        " 1900 15251\n",
        " iomw, numomw = "
       ]
      },
      {
       "output_type": "stream",
       "stream": "stdout",
       "text": [
        " 1950 15251\n",
        " iomw, numomw = "
       ]
      },
      {
       "output_type": "stream",
       "stream": "stdout",
       "text": [
        " 2000 15251\n",
        " iomw, numomw = "
       ]
      },
      {
       "output_type": "stream",
       "stream": "stdout",
       "text": [
        " 2050 15251\n",
        " iomw, numomw = "
       ]
      },
      {
       "output_type": "stream",
       "stream": "stdout",
       "text": [
        " 2100 15251\n",
        " iomw, numomw = "
       ]
      },
      {
       "output_type": "stream",
       "stream": "stdout",
       "text": [
        " 2150 15251\n",
        " iomw, numomw = "
       ]
      },
      {
       "output_type": "stream",
       "stream": "stdout",
       "text": [
        " 2200 15251\n",
        " iomw, numomw = "
       ]
      },
      {
       "output_type": "stream",
       "stream": "stdout",
       "text": [
        " 2250 15251\n",
        " iomw, numomw = "
       ]
      },
      {
       "output_type": "stream",
       "stream": "stdout",
       "text": [
        " 2300 15251\n",
        " iomw, numomw = "
       ]
      },
      {
       "output_type": "stream",
       "stream": "stdout",
       "text": [
        " 2350 15251\n",
        " iomw, numomw = "
       ]
      },
      {
       "output_type": "stream",
       "stream": "stdout",
       "text": [
        " 2400 15251\n",
        " iomw, numomw = "
       ]
      },
      {
       "output_type": "stream",
       "stream": "stdout",
       "text": [
        " 2450 15251\n",
        " iomw, numomw = "
       ]
      },
      {
       "output_type": "stream",
       "stream": "stdout",
       "text": [
        " 2500 15251\n",
        " iomw, numomw = "
       ]
      },
      {
       "output_type": "stream",
       "stream": "stdout",
       "text": [
        " 2550 15251\n",
        " iomw, numomw = "
       ]
      },
      {
       "output_type": "stream",
       "stream": "stdout",
       "text": [
        " 2600 15251\n",
        " iomw, numomw = "
       ]
      },
      {
       "output_type": "stream",
       "stream": "stdout",
       "text": [
        " 2650 15251\n",
        " iomw, numomw = "
       ]
      },
      {
       "output_type": "stream",
       "stream": "stdout",
       "text": [
        " 2700 15251\n",
        " iomw, numomw = "
       ]
      },
      {
       "output_type": "stream",
       "stream": "stdout",
       "text": [
        " 2750 15251\n",
        " iomw, numomw = "
       ]
      },
      {
       "output_type": "stream",
       "stream": "stdout",
       "text": [
        " 2800 15251\n",
        " iomw, numomw = "
       ]
      },
      {
       "output_type": "stream",
       "stream": "stdout",
       "text": [
        " 2850 15251\n",
        " iomw, numomw = "
       ]
      },
      {
       "output_type": "stream",
       "stream": "stdout",
       "text": [
        " 2900 15251\n",
        " iomw, numomw = "
       ]
      },
      {
       "output_type": "stream",
       "stream": "stdout",
       "text": [
        " 2950 15251\n",
        " iomw, numomw = "
       ]
      },
      {
       "output_type": "stream",
       "stream": "stdout",
       "text": [
        " 3000 15251\n",
        " iomw, numomw = "
       ]
      },
      {
       "output_type": "stream",
       "stream": "stdout",
       "text": [
        " 3050 15251\n",
        " iomw, numomw = "
       ]
      },
      {
       "output_type": "stream",
       "stream": "stdout",
       "text": [
        " 3100 15251\n",
        " iomw, numomw = "
       ]
      },
      {
       "output_type": "stream",
       "stream": "stdout",
       "text": [
        " 3150 15251\n",
        " iomw, numomw = "
       ]
      },
      {
       "output_type": "stream",
       "stream": "stdout",
       "text": [
        " 3200 15251\n",
        " iomw, numomw = "
       ]
      },
      {
       "output_type": "stream",
       "stream": "stdout",
       "text": [
        " 3250 15251\n",
        " iomw, numomw = "
       ]
      },
      {
       "output_type": "stream",
       "stream": "stdout",
       "text": [
        " 3300 15251\n",
        " iomw, numomw = "
       ]
      },
      {
       "output_type": "stream",
       "stream": "stdout",
       "text": [
        " 3350 15251\n",
        " iomw, numomw = "
       ]
      },
      {
       "output_type": "stream",
       "stream": "stdout",
       "text": [
        " 3400 15251\n",
        " iomw, numomw = "
       ]
      },
      {
       "output_type": "stream",
       "stream": "stdout",
       "text": [
        " 3450 15251\n",
        " iomw, numomw = "
       ]
      },
      {
       "output_type": "stream",
       "stream": "stdout",
       "text": [
        " 3500 15251\n",
        " iomw, numomw = "
       ]
      },
      {
       "output_type": "stream",
       "stream": "stdout",
       "text": [
        " 3550 15251\n",
        " iomw, numomw = "
       ]
      },
      {
       "output_type": "stream",
       "stream": "stdout",
       "text": [
        " 3600 15251\n",
        " iomw, numomw = "
       ]
      },
      {
       "output_type": "stream",
       "stream": "stdout",
       "text": [
        " 3650 15251\n",
        " iomw, numomw = "
       ]
      },
      {
       "output_type": "stream",
       "stream": "stdout",
       "text": [
        " 3700 15251\n",
        " iomw, numomw = "
       ]
      },
      {
       "output_type": "stream",
       "stream": "stdout",
       "text": [
        " 3750 15251\n",
        " iomw, numomw = "
       ]
      },
      {
       "output_type": "stream",
       "stream": "stdout",
       "text": [
        " 3800 15251\n",
        " iomw, numomw = "
       ]
      },
      {
       "output_type": "stream",
       "stream": "stdout",
       "text": [
        " 3850 15251\n",
        " iomw, numomw = "
       ]
      },
      {
       "output_type": "stream",
       "stream": "stdout",
       "text": [
        " 3900 15251\n",
        " iomw, numomw = "
       ]
      },
      {
       "output_type": "stream",
       "stream": "stdout",
       "text": [
        " 3950 15251\n",
        " iomw, numomw = "
       ]
      },
      {
       "output_type": "stream",
       "stream": "stdout",
       "text": [
        " 4000 15251\n",
        " iomw, numomw = "
       ]
      },
      {
       "output_type": "stream",
       "stream": "stdout",
       "text": [
        " 4050 15251\n",
        " iomw, numomw = "
       ]
      },
      {
       "output_type": "stream",
       "stream": "stdout",
       "text": [
        " 4100 15251\n",
        " iomw, numomw = "
       ]
      },
      {
       "output_type": "stream",
       "stream": "stdout",
       "text": [
        " 4150 15251\n",
        " iomw, numomw = "
       ]
      },
      {
       "output_type": "stream",
       "stream": "stdout",
       "text": [
        " 4200 15251\n",
        " iomw, numomw = "
       ]
      },
      {
       "output_type": "stream",
       "stream": "stdout",
       "text": [
        " 4250 15251\n",
        " iomw, numomw = "
       ]
      },
      {
       "output_type": "stream",
       "stream": "stdout",
       "text": [
        " 4300 15251\n",
        " iomw, numomw = "
       ]
      },
      {
       "output_type": "stream",
       "stream": "stdout",
       "text": [
        " 4350 15251\n",
        " iomw, numomw = "
       ]
      },
      {
       "output_type": "stream",
       "stream": "stdout",
       "text": [
        " 4400 15251\n",
        " iomw, numomw = "
       ]
      },
      {
       "output_type": "stream",
       "stream": "stdout",
       "text": [
        " 4450 15251\n",
        " iomw, numomw = "
       ]
      },
      {
       "output_type": "stream",
       "stream": "stdout",
       "text": [
        " 4500 15251\n",
        " iomw, numomw = "
       ]
      },
      {
       "output_type": "stream",
       "stream": "stdout",
       "text": [
        " 4550 15251\n",
        " iomw, numomw = "
       ]
      },
      {
       "output_type": "stream",
       "stream": "stdout",
       "text": [
        " 4600 15251\n",
        " iomw, numomw = "
       ]
      },
      {
       "output_type": "stream",
       "stream": "stdout",
       "text": [
        " 4650 15251\n",
        " iomw, numomw = "
       ]
      },
      {
       "output_type": "stream",
       "stream": "stdout",
       "text": [
        " 4700 15251\n",
        " iomw, numomw = "
       ]
      },
      {
       "output_type": "stream",
       "stream": "stdout",
       "text": [
        " 4750 15251\n",
        " iomw, numomw = "
       ]
      },
      {
       "output_type": "stream",
       "stream": "stdout",
       "text": [
        " 4800 15251\n",
        " iomw, numomw = "
       ]
      },
      {
       "output_type": "stream",
       "stream": "stdout",
       "text": [
        " 4850 15251\n",
        " iomw, numomw = "
       ]
      },
      {
       "output_type": "stream",
       "stream": "stdout",
       "text": [
        " 4900 15251\n",
        " iomw, numomw = "
       ]
      },
      {
       "output_type": "stream",
       "stream": "stdout",
       "text": [
        " 4950 15251\n",
        " iomw, numomw = "
       ]
      },
      {
       "output_type": "stream",
       "stream": "stdout",
       "text": [
        " 5000 15251\n",
        " iomw, numomw = "
       ]
      },
      {
       "output_type": "stream",
       "stream": "stdout",
       "text": [
        " 5050 15251\n",
        " iomw, numomw = "
       ]
      },
      {
       "output_type": "stream",
       "stream": "stdout",
       "text": [
        " 5100 15251\n",
        " iomw, numomw = "
       ]
      },
      {
       "output_type": "stream",
       "stream": "stdout",
       "text": [
        " 5150 15251\n",
        " iomw, numomw = "
       ]
      },
      {
       "output_type": "stream",
       "stream": "stdout",
       "text": [
        " 5200 15251\n",
        " iomw, numomw = "
       ]
      },
      {
       "output_type": "stream",
       "stream": "stdout",
       "text": [
        " 5250 15251\n",
        " iomw, numomw = "
       ]
      },
      {
       "output_type": "stream",
       "stream": "stdout",
       "text": [
        " 5300 15251\n",
        " iomw, numomw = "
       ]
      },
      {
       "output_type": "stream",
       "stream": "stdout",
       "text": [
        " 5350 15251\n",
        " iomw, numomw = "
       ]
      },
      {
       "output_type": "stream",
       "stream": "stdout",
       "text": [
        " 5400 15251\n",
        " iomw, numomw = "
       ]
      },
      {
       "output_type": "stream",
       "stream": "stdout",
       "text": [
        " 5450 15251\n",
        " iomw, numomw = "
       ]
      },
      {
       "output_type": "stream",
       "stream": "stdout",
       "text": [
        " 5500 15251\n",
        " iomw, numomw = "
       ]
      },
      {
       "output_type": "stream",
       "stream": "stdout",
       "text": [
        " 5550 15251\n",
        " iomw, numomw = "
       ]
      },
      {
       "output_type": "stream",
       "stream": "stdout",
       "text": [
        " 5600 15251\n",
        " iomw, numomw = "
       ]
      },
      {
       "output_type": "stream",
       "stream": "stdout",
       "text": [
        " 5650 15251\n",
        " iomw, numomw = "
       ]
      },
      {
       "output_type": "stream",
       "stream": "stdout",
       "text": [
        " 5700 15251\n",
        " iomw, numomw = "
       ]
      },
      {
       "output_type": "stream",
       "stream": "stdout",
       "text": [
        " 5750 15251\n",
        " iomw, numomw = "
       ]
      },
      {
       "output_type": "stream",
       "stream": "stdout",
       "text": [
        " 5800 15251\n",
        " iomw, numomw = "
       ]
      },
      {
       "output_type": "stream",
       "stream": "stdout",
       "text": [
        " 5850 15251\n",
        " iomw, numomw = "
       ]
      },
      {
       "output_type": "stream",
       "stream": "stdout",
       "text": [
        " 5900 15251\n",
        " iomw, numomw = "
       ]
      },
      {
       "output_type": "stream",
       "stream": "stdout",
       "text": [
        " 5950 15251\n",
        " iomw, numomw = "
       ]
      },
      {
       "output_type": "stream",
       "stream": "stdout",
       "text": [
        " 6000 15251\n",
        " iomw, numomw = "
       ]
      },
      {
       "output_type": "stream",
       "stream": "stdout",
       "text": [
        " 6050 15251\n",
        " iomw, numomw = "
       ]
      },
      {
       "output_type": "stream",
       "stream": "stdout",
       "text": [
        " 6100 15251\n",
        " iomw, numomw = "
       ]
      },
      {
       "output_type": "stream",
       "stream": "stdout",
       "text": [
        " 6150 15251\n",
        " iomw, numomw = "
       ]
      },
      {
       "output_type": "stream",
       "stream": "stdout",
       "text": [
        " 6200 15251\n",
        " iomw, numomw = "
       ]
      },
      {
       "output_type": "stream",
       "stream": "stdout",
       "text": [
        " 6250 15251\n",
        " iomw, numomw = "
       ]
      },
      {
       "output_type": "stream",
       "stream": "stdout",
       "text": [
        " 6300 15251\n",
        " iomw, numomw = "
       ]
      },
      {
       "output_type": "stream",
       "stream": "stdout",
       "text": [
        " 6350 15251\n",
        " iomw, numomw = "
       ]
      },
      {
       "output_type": "stream",
       "stream": "stdout",
       "text": [
        " 6400 15251\n",
        " iomw, numomw = "
       ]
      },
      {
       "output_type": "stream",
       "stream": "stdout",
       "text": [
        " 6450 15251\n",
        " iomw, numomw = "
       ]
      },
      {
       "output_type": "stream",
       "stream": "stdout",
       "text": [
        " 6500 15251\n",
        " iomw, numomw = "
       ]
      },
      {
       "output_type": "stream",
       "stream": "stdout",
       "text": [
        " 6550 15251\n",
        " iomw, numomw = "
       ]
      },
      {
       "output_type": "stream",
       "stream": "stdout",
       "text": [
        " 6600 15251\n",
        " iomw, numomw = "
       ]
      },
      {
       "output_type": "stream",
       "stream": "stdout",
       "text": [
        " 6650 15251\n",
        " iomw, numomw = "
       ]
      },
      {
       "output_type": "stream",
       "stream": "stdout",
       "text": [
        " 6700 15251\n",
        " iomw, numomw = "
       ]
      },
      {
       "output_type": "stream",
       "stream": "stdout",
       "text": [
        " 6750 15251\n",
        " iomw, numomw = "
       ]
      },
      {
       "output_type": "stream",
       "stream": "stdout",
       "text": [
        " 6800 15251\n",
        " iomw, numomw = "
       ]
      },
      {
       "output_type": "stream",
       "stream": "stdout",
       "text": [
        " 6850 15251\n",
        " iomw, numomw = "
       ]
      },
      {
       "output_type": "stream",
       "stream": "stdout",
       "text": [
        " 6900 15251\n",
        " iomw, numomw = "
       ]
      },
      {
       "output_type": "stream",
       "stream": "stdout",
       "text": [
        " 6950 15251\n",
        " iomw, numomw = "
       ]
      },
      {
       "output_type": "stream",
       "stream": "stdout",
       "text": [
        " 7000 15251\n",
        " iomw, numomw = "
       ]
      },
      {
       "output_type": "stream",
       "stream": "stdout",
       "text": [
        " 7050 15251\n",
        " iomw, numomw = "
       ]
      },
      {
       "output_type": "stream",
       "stream": "stdout",
       "text": [
        " 7100 15251\n",
        " iomw, numomw = "
       ]
      },
      {
       "output_type": "stream",
       "stream": "stdout",
       "text": [
        " 7150 15251\n",
        " iomw, numomw = "
       ]
      },
      {
       "output_type": "stream",
       "stream": "stdout",
       "text": [
        " 7200 15251\n",
        " iomw, numomw = "
       ]
      },
      {
       "output_type": "stream",
       "stream": "stdout",
       "text": [
        " 7250 15251\n",
        " iomw, numomw = "
       ]
      },
      {
       "output_type": "stream",
       "stream": "stdout",
       "text": [
        " 7300 15251\n",
        " iomw, numomw = "
       ]
      },
      {
       "output_type": "stream",
       "stream": "stdout",
       "text": [
        " 7350 15251\n",
        " iomw, numomw = "
       ]
      },
      {
       "output_type": "stream",
       "stream": "stdout",
       "text": [
        " 7400 15251\n",
        " iomw, numomw = "
       ]
      },
      {
       "output_type": "stream",
       "stream": "stdout",
       "text": [
        " 7450 15251\n",
        " iomw, numomw = "
       ]
      },
      {
       "output_type": "stream",
       "stream": "stdout",
       "text": [
        " 7500 15251\n",
        " iomw, numomw = "
       ]
      },
      {
       "output_type": "stream",
       "stream": "stdout",
       "text": [
        " 7550 15251\n",
        " iomw, numomw = "
       ]
      },
      {
       "output_type": "stream",
       "stream": "stdout",
       "text": [
        " 7600 15251\n",
        " iomw, numomw = "
       ]
      },
      {
       "output_type": "stream",
       "stream": "stdout",
       "text": [
        " 7650 15251\n",
        " iomw, numomw = "
       ]
      },
      {
       "output_type": "stream",
       "stream": "stdout",
       "text": [
        " 7700 15251\n",
        " iomw, numomw = "
       ]
      },
      {
       "output_type": "stream",
       "stream": "stdout",
       "text": [
        " 7750 15251\n",
        " iomw, numomw = "
       ]
      },
      {
       "output_type": "stream",
       "stream": "stdout",
       "text": [
        " 7800 15251\n",
        " iomw, numomw = "
       ]
      },
      {
       "output_type": "stream",
       "stream": "stdout",
       "text": [
        " 7850 15251\n",
        " iomw, numomw = "
       ]
      },
      {
       "output_type": "stream",
       "stream": "stdout",
       "text": [
        " 7900 15251\n",
        " iomw, numomw = "
       ]
      },
      {
       "output_type": "stream",
       "stream": "stdout",
       "text": [
        " 7950 15251\n",
        " iomw, numomw = "
       ]
      },
      {
       "output_type": "stream",
       "stream": "stdout",
       "text": [
        " 8000 15251\n",
        " iomw, numomw = "
       ]
      },
      {
       "output_type": "stream",
       "stream": "stdout",
       "text": [
        " 8050 15251\n",
        " iomw, numomw = "
       ]
      },
      {
       "output_type": "stream",
       "stream": "stdout",
       "text": [
        " 8100 15251\n",
        " iomw, numomw = "
       ]
      },
      {
       "output_type": "stream",
       "stream": "stdout",
       "text": [
        " 8150 15251\n",
        " iomw, numomw = "
       ]
      },
      {
       "output_type": "stream",
       "stream": "stdout",
       "text": [
        " 8200 15251\n",
        " iomw, numomw = "
       ]
      },
      {
       "output_type": "stream",
       "stream": "stdout",
       "text": [
        " 8250 15251\n",
        " iomw, numomw = "
       ]
      },
      {
       "output_type": "stream",
       "stream": "stdout",
       "text": [
        " 8300 15251\n",
        " iomw, numomw = "
       ]
      },
      {
       "output_type": "stream",
       "stream": "stdout",
       "text": [
        " 8350 15251\n",
        " iomw, numomw = "
       ]
      },
      {
       "output_type": "stream",
       "stream": "stdout",
       "text": [
        " 8400 15251\n",
        " iomw, numomw = "
       ]
      },
      {
       "output_type": "stream",
       "stream": "stdout",
       "text": [
        " 8450 15251\n",
        " iomw, numomw = "
       ]
      },
      {
       "output_type": "stream",
       "stream": "stdout",
       "text": [
        " 8500 15251\n",
        " iomw, numomw = "
       ]
      },
      {
       "output_type": "stream",
       "stream": "stdout",
       "text": [
        " 8550 15251\n",
        " iomw, numomw = "
       ]
      },
      {
       "output_type": "stream",
       "stream": "stdout",
       "text": [
        " 8600 15251\n",
        " iomw, numomw = "
       ]
      },
      {
       "output_type": "stream",
       "stream": "stdout",
       "text": [
        " 8650 15251\n",
        " iomw, numomw = "
       ]
      },
      {
       "output_type": "stream",
       "stream": "stdout",
       "text": [
        " 8700 15251\n",
        " iomw, numomw = "
       ]
      },
      {
       "output_type": "stream",
       "stream": "stdout",
       "text": [
        " 8750 15251\n",
        " iomw, numomw = "
       ]
      },
      {
       "output_type": "stream",
       "stream": "stdout",
       "text": [
        " 8800 15251\n",
        " iomw, numomw = "
       ]
      },
      {
       "output_type": "stream",
       "stream": "stdout",
       "text": [
        " 8850 15251\n",
        " iomw, numomw = "
       ]
      },
      {
       "output_type": "stream",
       "stream": "stdout",
       "text": [
        " 8900 15251\n",
        " iomw, numomw = "
       ]
      },
      {
       "output_type": "stream",
       "stream": "stdout",
       "text": [
        " 8950 15251\n",
        " iomw, numomw = "
       ]
      },
      {
       "output_type": "stream",
       "stream": "stdout",
       "text": [
        " 9000 15251\n",
        " iomw, numomw = "
       ]
      },
      {
       "output_type": "stream",
       "stream": "stdout",
       "text": [
        " 9050 15251\n",
        " iomw, numomw = "
       ]
      },
      {
       "output_type": "stream",
       "stream": "stdout",
       "text": [
        " 9100 15251\n",
        " iomw, numomw = "
       ]
      },
      {
       "output_type": "stream",
       "stream": "stdout",
       "text": [
        " 9150 15251\n",
        " iomw, numomw = "
       ]
      },
      {
       "output_type": "stream",
       "stream": "stdout",
       "text": [
        " 9200 15251\n",
        " iomw, numomw = "
       ]
      },
      {
       "output_type": "stream",
       "stream": "stdout",
       "text": [
        " 9250 15251\n",
        " iomw, numomw = "
       ]
      },
      {
       "output_type": "stream",
       "stream": "stdout",
       "text": [
        " 9300 15251\n",
        " iomw, numomw = "
       ]
      },
      {
       "output_type": "stream",
       "stream": "stdout",
       "text": [
        " 9350 15251\n",
        " iomw, numomw = "
       ]
      },
      {
       "output_type": "stream",
       "stream": "stdout",
       "text": [
        " 9400 15251\n",
        " iomw, numomw = "
       ]
      },
      {
       "output_type": "stream",
       "stream": "stdout",
       "text": [
        " 9450 15251\n",
        " iomw, numomw = "
       ]
      },
      {
       "output_type": "stream",
       "stream": "stdout",
       "text": [
        " 9500 15251\n",
        " iomw, numomw = "
       ]
      },
      {
       "output_type": "stream",
       "stream": "stdout",
       "text": [
        " 9550 15251\n",
        " iomw, numomw = "
       ]
      },
      {
       "output_type": "stream",
       "stream": "stdout",
       "text": [
        " 9600 15251\n",
        " iomw, numomw = "
       ]
      },
      {
       "output_type": "stream",
       "stream": "stdout",
       "text": [
        " 9650 15251\n",
        " iomw, numomw = "
       ]
      },
      {
       "output_type": "stream",
       "stream": "stdout",
       "text": [
        " 9700 15251\n",
        " iomw, numomw = "
       ]
      },
      {
       "output_type": "stream",
       "stream": "stdout",
       "text": [
        " 9750 15251\n",
        " iomw, numomw = "
       ]
      },
      {
       "output_type": "stream",
       "stream": "stdout",
       "text": [
        " 9800 15251\n",
        " iomw, numomw = "
       ]
      },
      {
       "output_type": "stream",
       "stream": "stdout",
       "text": [
        " 9850 15251\n",
        " iomw, numomw = "
       ]
      },
      {
       "output_type": "stream",
       "stream": "stdout",
       "text": [
        " 9900 15251\n",
        " iomw, numomw = "
       ]
      },
      {
       "output_type": "stream",
       "stream": "stdout",
       "text": [
        " 9950 15251\n",
        " iomw, numomw = "
       ]
      },
      {
       "output_type": "stream",
       "stream": "stdout",
       "text": [
        " 10000 15251\n",
        " iomw, numomw = "
       ]
      },
      {
       "output_type": "stream",
       "stream": "stdout",
       "text": [
        " 10050 15251\n",
        " iomw, numomw = "
       ]
      },
      {
       "output_type": "stream",
       "stream": "stdout",
       "text": [
        " 10100 15251\n",
        " iomw, numomw = "
       ]
      },
      {
       "output_type": "stream",
       "stream": "stdout",
       "text": [
        " 10150 15251\n",
        " iomw, numomw = "
       ]
      },
      {
       "output_type": "stream",
       "stream": "stdout",
       "text": [
        " 10200 15251\n",
        " iomw, numomw = "
       ]
      },
      {
       "output_type": "stream",
       "stream": "stdout",
       "text": [
        " 10250 15251\n",
        " iomw, numomw = "
       ]
      },
      {
       "output_type": "stream",
       "stream": "stdout",
       "text": [
        " 10300 15251\n",
        " iomw, numomw = "
       ]
      },
      {
       "output_type": "stream",
       "stream": "stdout",
       "text": [
        " 10350 15251\n",
        " iomw, numomw = "
       ]
      },
      {
       "output_type": "stream",
       "stream": "stdout",
       "text": [
        " 10400 15251\n",
        " iomw, numomw = "
       ]
      },
      {
       "output_type": "stream",
       "stream": "stdout",
       "text": [
        " 10450 15251\n",
        " iomw, numomw = "
       ]
      },
      {
       "output_type": "stream",
       "stream": "stdout",
       "text": [
        " 10500 15251\n",
        " iomw, numomw = "
       ]
      },
      {
       "output_type": "stream",
       "stream": "stdout",
       "text": [
        " 10550 15251\n",
        " iomw, numomw = "
       ]
      },
      {
       "output_type": "stream",
       "stream": "stdout",
       "text": [
        " 10600 15251\n",
        " iomw, numomw = "
       ]
      },
      {
       "output_type": "stream",
       "stream": "stdout",
       "text": [
        " 10650 15251\n",
        " iomw, numomw = "
       ]
      },
      {
       "output_type": "stream",
       "stream": "stdout",
       "text": [
        " 10700 15251\n",
        " iomw, numomw = "
       ]
      },
      {
       "output_type": "stream",
       "stream": "stdout",
       "text": [
        " 10750 15251\n",
        " iomw, numomw = "
       ]
      },
      {
       "output_type": "stream",
       "stream": "stdout",
       "text": [
        " 10800 15251\n",
        " iomw, numomw = "
       ]
      },
      {
       "output_type": "stream",
       "stream": "stdout",
       "text": [
        " 10850 15251\n",
        " iomw, numomw = "
       ]
      },
      {
       "output_type": "stream",
       "stream": "stdout",
       "text": [
        " 10900 15251\n",
        " iomw, numomw = "
       ]
      },
      {
       "output_type": "stream",
       "stream": "stdout",
       "text": [
        " 10950 15251\n",
        " iomw, numomw = "
       ]
      },
      {
       "output_type": "stream",
       "stream": "stdout",
       "text": [
        " 11000 15251\n",
        " iomw, numomw = "
       ]
      },
      {
       "output_type": "stream",
       "stream": "stdout",
       "text": [
        " 11050 15251\n",
        " iomw, numomw = "
       ]
      },
      {
       "output_type": "stream",
       "stream": "stdout",
       "text": [
        " 11100 15251\n",
        " iomw, numomw = "
       ]
      },
      {
       "output_type": "stream",
       "stream": "stdout",
       "text": [
        " 11150 15251\n",
        " iomw, numomw = "
       ]
      },
      {
       "output_type": "stream",
       "stream": "stdout",
       "text": [
        " 11200 15251\n",
        " iomw, numomw = "
       ]
      },
      {
       "output_type": "stream",
       "stream": "stdout",
       "text": [
        " 11250 15251\n",
        " iomw, numomw = "
       ]
      },
      {
       "output_type": "stream",
       "stream": "stdout",
       "text": [
        " 11300 15251\n",
        " iomw, numomw = "
       ]
      },
      {
       "output_type": "stream",
       "stream": "stdout",
       "text": [
        " 11350 15251\n",
        " iomw, numomw = "
       ]
      },
      {
       "output_type": "stream",
       "stream": "stdout",
       "text": [
        " 11400 15251\n",
        " iomw, numomw = "
       ]
      },
      {
       "output_type": "stream",
       "stream": "stdout",
       "text": [
        " 11450 15251\n",
        " iomw, numomw = "
       ]
      },
      {
       "output_type": "stream",
       "stream": "stdout",
       "text": [
        " 11500 15251\n",
        " iomw, numomw = "
       ]
      },
      {
       "output_type": "stream",
       "stream": "stdout",
       "text": [
        " 11550 15251\n",
        " iomw, numomw = "
       ]
      },
      {
       "output_type": "stream",
       "stream": "stdout",
       "text": [
        " 11600 15251\n",
        " iomw, numomw = "
       ]
      },
      {
       "output_type": "stream",
       "stream": "stdout",
       "text": [
        " 11650 15251\n",
        " iomw, numomw = "
       ]
      },
      {
       "output_type": "stream",
       "stream": "stdout",
       "text": [
        " 11700 15251\n",
        " iomw, numomw = "
       ]
      },
      {
       "output_type": "stream",
       "stream": "stdout",
       "text": [
        " 11750 15251\n",
        " iomw, numomw = "
       ]
      },
      {
       "output_type": "stream",
       "stream": "stdout",
       "text": [
        " 11800 15251\n",
        " iomw, numomw = "
       ]
      },
      {
       "output_type": "stream",
       "stream": "stdout",
       "text": [
        " 11850 15251\n",
        " iomw, numomw = "
       ]
      },
      {
       "output_type": "stream",
       "stream": "stdout",
       "text": [
        " 11900 15251\n",
        " iomw, numomw = "
       ]
      },
      {
       "output_type": "stream",
       "stream": "stdout",
       "text": [
        " 11950 15251\n",
        " iomw, numomw = "
       ]
      },
      {
       "output_type": "stream",
       "stream": "stdout",
       "text": [
        " 12000 15251\n",
        " iomw, numomw = "
       ]
      },
      {
       "output_type": "stream",
       "stream": "stdout",
       "text": [
        " 12050 15251\n",
        " iomw, numomw = "
       ]
      },
      {
       "output_type": "stream",
       "stream": "stdout",
       "text": [
        " 12100 15251\n",
        " iomw, numomw = "
       ]
      },
      {
       "output_type": "stream",
       "stream": "stdout",
       "text": [
        " 12150 15251\n",
        " iomw, numomw = "
       ]
      },
      {
       "output_type": "stream",
       "stream": "stdout",
       "text": [
        " 12200 15251\n",
        " iomw, numomw = "
       ]
      },
      {
       "output_type": "stream",
       "stream": "stdout",
       "text": [
        " 12250 15251\n",
        " iomw, numomw = "
       ]
      },
      {
       "output_type": "stream",
       "stream": "stdout",
       "text": [
        " 12300 15251\n",
        " iomw, numomw = "
       ]
      },
      {
       "output_type": "stream",
       "stream": "stdout",
       "text": [
        " 12350 15251\n",
        " iomw, numomw = "
       ]
      },
      {
       "output_type": "stream",
       "stream": "stdout",
       "text": [
        " 12400 15251\n",
        " iomw, numomw = "
       ]
      },
      {
       "output_type": "stream",
       "stream": "stdout",
       "text": [
        " 12450 15251\n",
        " iomw, numomw = "
       ]
      },
      {
       "output_type": "stream",
       "stream": "stdout",
       "text": [
        " 12500 15251\n",
        " iomw, numomw = "
       ]
      },
      {
       "output_type": "stream",
       "stream": "stdout",
       "text": [
        " 12550 15251\n",
        " iomw, numomw = "
       ]
      },
      {
       "output_type": "stream",
       "stream": "stdout",
       "text": [
        " 12600 15251\n",
        " iomw, numomw = "
       ]
      },
      {
       "output_type": "stream",
       "stream": "stdout",
       "text": [
        " 12650 15251\n",
        " iomw, numomw = "
       ]
      },
      {
       "output_type": "stream",
       "stream": "stdout",
       "text": [
        " 12700 15251\n",
        " iomw, numomw = "
       ]
      },
      {
       "output_type": "stream",
       "stream": "stdout",
       "text": [
        " 12750 15251\n",
        " iomw, numomw = "
       ]
      },
      {
       "output_type": "stream",
       "stream": "stdout",
       "text": [
        " 12800 15251\n",
        " iomw, numomw = "
       ]
      },
      {
       "output_type": "stream",
       "stream": "stdout",
       "text": [
        " 12850 15251\n",
        " iomw, numomw = "
       ]
      },
      {
       "output_type": "stream",
       "stream": "stdout",
       "text": [
        " 12900 15251\n",
        " iomw, numomw = "
       ]
      },
      {
       "output_type": "stream",
       "stream": "stdout",
       "text": [
        " 12950 15251\n",
        " iomw, numomw = "
       ]
      },
      {
       "output_type": "stream",
       "stream": "stdout",
       "text": [
        " 13000 15251\n",
        " iomw, numomw = "
       ]
      },
      {
       "output_type": "stream",
       "stream": "stdout",
       "text": [
        " 13050 15251\n",
        " iomw, numomw = "
       ]
      },
      {
       "output_type": "stream",
       "stream": "stdout",
       "text": [
        " 13100 15251\n",
        " iomw, numomw = "
       ]
      },
      {
       "output_type": "stream",
       "stream": "stdout",
       "text": [
        " 13150 15251\n",
        " iomw, numomw = "
       ]
      },
      {
       "output_type": "stream",
       "stream": "stdout",
       "text": [
        " 13200 15251\n",
        " iomw, numomw = "
       ]
      },
      {
       "output_type": "stream",
       "stream": "stdout",
       "text": [
        " 13250 15251\n",
        " iomw, numomw = "
       ]
      },
      {
       "output_type": "stream",
       "stream": "stdout",
       "text": [
        " 13300 15251\n",
        " iomw, numomw = "
       ]
      },
      {
       "output_type": "stream",
       "stream": "stdout",
       "text": [
        " 13350 15251\n",
        " iomw, numomw = "
       ]
      },
      {
       "output_type": "stream",
       "stream": "stdout",
       "text": [
        " 13400 15251\n",
        " iomw, numomw = "
       ]
      },
      {
       "output_type": "stream",
       "stream": "stdout",
       "text": [
        " 13450 15251\n",
        " iomw, numomw = "
       ]
      },
      {
       "output_type": "stream",
       "stream": "stdout",
       "text": [
        " 13500 15251\n",
        " iomw, numomw = "
       ]
      },
      {
       "output_type": "stream",
       "stream": "stdout",
       "text": [
        " 13550 15251\n",
        " iomw, numomw = "
       ]
      },
      {
       "output_type": "stream",
       "stream": "stdout",
       "text": [
        " 13600 15251\n",
        " iomw, numomw = "
       ]
      },
      {
       "output_type": "stream",
       "stream": "stdout",
       "text": [
        " 13650 15251\n",
        " iomw, numomw = "
       ]
      },
      {
       "output_type": "stream",
       "stream": "stdout",
       "text": [
        " 13700 15251\n",
        " iomw, numomw = "
       ]
      },
      {
       "output_type": "stream",
       "stream": "stdout",
       "text": [
        " 13750 15251\n",
        " iomw, numomw = "
       ]
      },
      {
       "output_type": "stream",
       "stream": "stdout",
       "text": [
        " 13800 15251\n",
        " iomw, numomw = "
       ]
      },
      {
       "output_type": "stream",
       "stream": "stdout",
       "text": [
        " 13850 15251\n",
        " iomw, numomw = "
       ]
      },
      {
       "output_type": "stream",
       "stream": "stdout",
       "text": [
        " 13900 15251\n",
        " iomw, numomw = "
       ]
      },
      {
       "output_type": "stream",
       "stream": "stdout",
       "text": [
        " 13950 15251\n",
        " iomw, numomw = "
       ]
      },
      {
       "output_type": "stream",
       "stream": "stdout",
       "text": [
        " 14000 15251\n",
        " iomw, numomw = "
       ]
      },
      {
       "output_type": "stream",
       "stream": "stdout",
       "text": [
        " 14050 15251\n",
        " iomw, numomw = "
       ]
      },
      {
       "output_type": "stream",
       "stream": "stdout",
       "text": [
        " 14100 15251\n",
        " iomw, numomw = "
       ]
      },
      {
       "output_type": "stream",
       "stream": "stdout",
       "text": [
        " 14150 15251\n",
        " iomw, numomw = "
       ]
      },
      {
       "output_type": "stream",
       "stream": "stdout",
       "text": [
        " 14200 15251\n",
        " iomw, numomw = "
       ]
      },
      {
       "output_type": "stream",
       "stream": "stdout",
       "text": [
        " 14250 15251\n",
        " iomw, numomw = "
       ]
      },
      {
       "output_type": "stream",
       "stream": "stdout",
       "text": [
        " 14300 15251\n",
        " iomw, numomw = "
       ]
      },
      {
       "output_type": "stream",
       "stream": "stdout",
       "text": [
        " 14350 15251\n",
        " iomw, numomw = "
       ]
      },
      {
       "output_type": "stream",
       "stream": "stdout",
       "text": [
        " 14400 15251\n",
        " iomw, numomw = "
       ]
      },
      {
       "output_type": "stream",
       "stream": "stdout",
       "text": [
        " 14450 15251\n",
        " iomw, numomw = "
       ]
      },
      {
       "output_type": "stream",
       "stream": "stdout",
       "text": [
        " 14500 15251\n",
        " iomw, numomw = "
       ]
      },
      {
       "output_type": "stream",
       "stream": "stdout",
       "text": [
        " 14550 15251\n",
        " iomw, numomw = "
       ]
      },
      {
       "output_type": "stream",
       "stream": "stdout",
       "text": [
        " 14600 15251\n",
        " iomw, numomw = "
       ]
      },
      {
       "output_type": "stream",
       "stream": "stdout",
       "text": [
        " 14650 15251\n",
        " iomw, numomw = "
       ]
      },
      {
       "output_type": "stream",
       "stream": "stdout",
       "text": [
        " 14700 15251\n",
        " iomw, numomw = "
       ]
      },
      {
       "output_type": "stream",
       "stream": "stdout",
       "text": [
        " 14750 15251\n",
        " iomw, numomw = "
       ]
      },
      {
       "output_type": "stream",
       "stream": "stdout",
       "text": [
        " 14800 15251\n",
        " iomw, numomw = "
       ]
      },
      {
       "output_type": "stream",
       "stream": "stdout",
       "text": [
        " 14850 15251\n",
        " iomw, numomw = "
       ]
      },
      {
       "output_type": "stream",
       "stream": "stdout",
       "text": [
        " 14900 15251\n",
        " iomw, numomw = "
       ]
      },
      {
       "output_type": "stream",
       "stream": "stdout",
       "text": [
        " 14950 15251\n",
        " iomw, numomw = "
       ]
      },
      {
       "output_type": "stream",
       "stream": "stdout",
       "text": [
        " 15000 15251\n",
        " iomw, numomw = "
       ]
      },
      {
       "output_type": "stream",
       "stream": "stdout",
       "text": [
        " 15050 15251\n",
        " iomw, numomw = "
       ]
      },
      {
       "output_type": "stream",
       "stream": "stdout",
       "text": [
        " 15100 15251\n",
        " iomw, numomw = "
       ]
      },
      {
       "output_type": "stream",
       "stream": "stdout",
       "text": [
        " 15150 15251\n",
        " iomw, numomw = "
       ]
      },
      {
       "output_type": "stream",
       "stream": "stdout",
       "text": [
        " 15200 15251\n",
        " iomw, numomw = "
       ]
      },
      {
       "output_type": "stream",
       "stream": "stdout",
       "text": [
        " 15250 15251\n"
       ]
      }
     ],
     "prompt_number": 4
    },
    {
     "cell_type": "code",
     "collapsed": false,
     "input": [
      "print scanchisqfile"
     ],
     "language": "python",
     "metadata": {},
     "outputs": [
      {
       "output_type": "stream",
       "stream": "stdout",
       "text": [
        "../chisqs/DraftContout_101_151_Scan__OM0.16to0.36__W-1.30to-0.70_sfact1_s5to40_WholeSnapShot.15251chisqs\n"
       ]
      }
     ],
     "prompt_number": 5
    },
    {
     "cell_type": "code",
     "collapsed": false,
     "input": [
      "#nowfile = scanchisqfile\n",
      "nowfile = '../chisqs/101_151_Scan__OM0.16to0.36__W-1.30to-0.70_sfact1_s5to40_WholeSnapShot.15251chisqs'\n",
      "nowarray =  open(nowfile, 'r').readlines()\n",
      "nowarray = [XX.split() for XX in nowarray]\n",
      "nowarray = nowarray[1:len(nowarray)]\n",
      "chisq_uncor_dict = {}\n",
      "chisq_corred_dict = {}\n",
      "omwstrs, chisq_uncor, chisq_corred = XYZfromdata(nowarray,0,5,6)\n",
      "\n",
      "for iomw in range(len(omwstrs)):\n",
      "    chisq_uncor_dict[omwstrs[iomw]] = float(chisq_uncor[iomw])\n",
      "    chisq_corred_dict[omwstrs[iomw]] = float(chisq_corred[iomw])\n",
      "    \n",
      "#chisq_corred_dict[omwstr(0.26,-1)] = chisq_corred_dict[omwstr(0.26,-1.05)]\n",
      "#chisq_uncor_dict[omwstr(0.26,-1)] = chisq_uncor_dict[omwstr(0.26,-1.05)]\n",
      "\n",
      "chisq_uncor_2dlist = [[chisq_uncor_dict[omwstr(om,w)] for om in omlist] for w in wlist]\n",
      "chisq_corred_2dlist = [[chisq_corred_dict[omwstr(om,w)] for om in omlist] for w in wlist]"
     ],
     "language": "python",
     "metadata": {},
     "outputs": [],
     "prompt_number": 36
    },
    {
     "cell_type": "code",
     "collapsed": false,
     "input": [
      "execfile('/home/xiaodongli/software/pythonlib/stdA.py')\n",
      "\n",
      "sigs = [sig1,sig2]\n",
      "\n",
      "fig = plt.figure(figsize=(14,7))\n",
      "ax1,ax2 = fig.add_subplot(121), fig.add_subplot(122)\n",
      "plot_contour(ax1, omlist, wlist, chisq_uncor_2dlist, sigs=sigs, do_smooth=False, label='No sys cor')\n",
      "plot_contour(ax2, omlist, wlist, chisq_corred_2dlist, sigs=sigs, do_smooth=False, label='After sys cor')\n",
      "fig.suptitle(scanstr,fontsize=14)\n",
      "for ax in [ax1,ax2]:\n",
      "    #ax.set_xlim(ommin,ommax)\n",
      "    #ax.set_ylim(wmin,wmax)\n",
      "    ax.set_xlim(0.2,0.31)\n",
      "    ax.set_ylim(-1.15,-0.85)\n",
      "    ax.grid()\n",
      "fig.savefig('../plottings/'+scanstr+'.contour.eps', format='eps')"
     ],
     "language": "python",
     "metadata": {},
     "outputs": [
      {
       "metadata": {},
       "output_type": "display_data",
       "png": "[encoded data removed]",
       "text": [
        "<matplotlib.figure.Figure at 0x7f147ce4fb90>"
       ]
      }
     ],
     "prompt_number": 42
    }
   ],
   "metadata": {}
  }
 ]
}